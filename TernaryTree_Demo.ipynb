{
 "cells": [
  {
   "cell_type": "markdown",
   "id": "659cb0db",
   "metadata": {},
   "source": [
    "# Ternary Search Tree Demo\n",
    "This notebook demonstrates how to use the `TernarySearchTree` class."
   ]
  },
  {
   "cell_type": "code",
   "execution_count": null,
   "id": "49fca7b5",
   "metadata": {},
   "outputs": [],
   "source": [
    "from ternary_tree import TernarySearchTree\n",
    "from file_loader import load_words\n"
   ]
  },
  {
   "cell_type": "code",
   "execution_count": null,
   "id": "86a7fde4",
   "metadata": {},
   "outputs": [],
   "source": [
    "tree = TernarySearchTree()\n",
    "\n",
    "# Load word lists\n",
    "insert_words = load_words(\"data/search_trees/insert_words.txt\")\n",
    "not_inserted = load_words(\"data/search_trees/not_insert_words.txt\")\n",
    "\n",
    "# Insert words\n",
    "for word in insert_words:\n",
    "    tree.insert(word)\n"
   ]
  },
  {
   "cell_type": "code",
   "execution_count": null,
   "id": "8134566b",
   "metadata": {},
   "outputs": [],
   "source": [
    "print(\"✅ Inserted words:\")\n",
    "for word in insert_words[:10]:  # Sample\n",
    "    print(f\"{word}: {'Found' if tree.search(word) else 'Not Found'}\")\n",
    "\n",
    "print(\"\\n❌ Not Inserted words:\")\n",
    "for word in not_inserted[:10]:  # Sample\n",
    "    print(f\"{word}: {'Found' if tree.search(word) else 'Not Found'}\")\n"
   ]
  },
  {
   "cell_type": "code",
   "execution_count": null,
   "id": "cbaa6488",
   "metadata": {},
   "outputs": [],
   "source": [
    "import time\n",
    "\n",
    "start = time.time()\n",
    "for word in insert_words:\n",
    "    tree.search(word)\n",
    "end = time.time()\n",
    "\n",
    "print(f\"Search time for {len(insert_words)} words: {end - start:.4f} seconds\")\n"
   ]
  }
 ],
 "metadata": {
  "language_info": {
   "name": "python"
  }
 },
 "nbformat": 4,
 "nbformat_minor": 5
}
