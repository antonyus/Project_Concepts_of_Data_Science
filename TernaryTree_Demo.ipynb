{
 "cells": [
  {
   "cell_type": "markdown",
   "id": "659cb0db",
   "metadata": {},
   "source": [
    "# Ternary Search Tree Demo\n",
    "This notebook demonstrates how to use the `TernarySearchTree` class."
   ]
  },
  {
   "cell_type": "code",
   "execution_count": 1,
   "id": "49fca7b5",
   "metadata": {},
   "outputs": [],
   "source": [
    "from ternary_tree import TernarySearchTree\n",
    "from file_loader import load_words\n"
   ]
  },
  {
   "cell_type": "markdown",
   "id": "a1d60068",
   "metadata": {},
   "source": [
    "## Initialize the Tree and Load Words"
   ]
  },
  {
   "cell_type": "code",
   "execution_count": 2,
   "id": "86a7fde4",
   "metadata": {},
   "outputs": [],
   "source": [
    "tree = TernarySearchTree()\n",
    "\n",
    "# Load words\n",
    "insert_words = load_words(\"data/search_trees/insert_words.txt\")\n",
    "not_inserted = load_words(\"data/search_trees/not_insert_words.txt\")\n",
    "\n",
    "# Insert words into the tree\n",
    "for word in insert_words:\n",
    "    tree.insert(word)\n"
   ]
  },
  {
   "cell_type": "markdown",
   "id": "c7569ba0",
   "metadata": {},
   "source": [
    "## Search for Inserted and Not Inserted Words"
   ]
  },
  {
   "cell_type": "code",
   "execution_count": 3,
   "id": "8134566b",
   "metadata": {},
   "outputs": [
    {
     "name": "stdout",
     "output_type": "stream",
     "text": [
      "✅ Inserted words:\n",
      "combine: Found\n",
      "combinations: Found\n",
      "combination: Found\n",
      "combined: Found\n",
      "combines: Found\n",
      "ducks: Found\n",
      "ducked: Found\n",
      "duck: Found\n",
      "futile: Found\n",
      "futility: Found\n",
      "\n",
      "❌ Not Inserted words:\n",
      "futures: Not Found\n",
      "fontains: Not Found\n",
      "alphabet: Not Found\n",
      "gamma: Not Found\n",
      "monster: Not Found\n",
      "test: Not Found\n"
     ]
    }
   ],
   "source": [
    "print(\"✅ Inserted words:\")\n",
    "for word in insert_words[:10]:\n",
    "    print(f\"{word}: {'Found' if tree.search(word) else 'Not Found'}\")\n",
    "\n",
    "print(\"\\n❌ Not Inserted words:\")\n",
    "for word in not_inserted[:10]:\n",
    "    print(f\"{word}: {'Found' if tree.search(word) else 'Not Found'}\")\n"
   ]
  },
  {
   "cell_type": "markdown",
   "id": "de526fe4",
   "metadata": {},
   "source": [
    "## Benchmark: Search Time for Inserted Words"
   ]
  },
  {
   "cell_type": "code",
   "execution_count": 4,
   "id": "cbaa6488",
   "metadata": {},
   "outputs": [
    {
     "name": "stdout",
     "output_type": "stream",
     "text": [
      "Search time for 22 words: 0.0004 seconds\n"
     ]
    }
   ],
   "source": [
    "import time\n",
    "\n",
    "start = time.time()\n",
    "for word in insert_words:\n",
    "    tree.search(word)\n",
    "end = time.time()\n",
    "\n",
    "print(f\"Search time for {len(insert_words)} words: {end - start:.4f} seconds\")"
   ]
  },
  {
   "cell_type": "code",
   "execution_count": 5,
   "id": "4618f016",
   "metadata": {},
   "outputs": [
    {
     "name": "stdout",
     "output_type": "stream",
     "text": [
      "Total words in tree: 20\n"
     ]
    }
   ],
   "source": [
    "# Get number of unique inserted words\n",
    "print(f\"Total words in tree: {tree.size()}\")"
   ]
  },
  {
   "cell_type": "code",
   "execution_count": 6,
   "id": "863e7f3a",
   "metadata": {},
   "outputs": [
    {
     "name": "stdout",
     "output_type": "stream",
     "text": [
      "\n",
      "First 20 stored words:\n",
      "['a', 'bomb', 'combination', 'combinations', 'combine', 'combined', 'combines', 'duck', 'ducked', 'ducks', 'far', 'font', 'fontain', 'futile', 'futility', 'future', 'the', 'their', 'there', 'therefor']\n"
     ]
    }
   ],
   "source": [
    "# Show all stored words (first 20 for brevity)\n",
    "all_words = tree.get_all_words()\n",
    "print(\"\\nFirst 20 stored words:\")\n",
    "print(all_words[:20])"
   ]
  },
  {
   "cell_type": "code",
   "execution_count": 7,
   "id": "ee0be526",
   "metadata": {},
   "outputs": [
    {
     "name": "stdout",
     "output_type": "stream",
     "text": [
      "\n",
      "Words starting with 'com':\n",
      "['combination', 'combinations', 'combine', 'combined', 'combines']\n"
     ]
    }
   ],
   "source": [
    "# Prefix search example\n",
    "prefix = \"com\"\n",
    "matches = tree.starts_with_prefix(prefix)\n",
    "print(f\"\\nWords starting with '{prefix}':\")\n",
    "print(matches[:10])"
   ]
  },
  {
   "cell_type": "code",
   "execution_count": 8,
   "id": "16d08913-9d9a-458e-b8c2-8028ba93ca4c",
   "metadata": {},
   "outputs": [
    {
     "name": "stdout",
     "output_type": "stream",
     "text": [
      "\n",
      "Ternary Search Tree Structure:\n",
      "         t\n",
      "            h\n",
      "               e*\n",
      "                     r\n",
      "                        e*\n",
      "                           f\n",
      "                              o\n",
      "                                 r*\n",
      "                  i\n",
      "                     r*\n",
      "      f\n",
      "         u\n",
      "            t\n",
      "                  u\n",
      "                     r\n",
      "                        e*\n",
      "               i\n",
      "                  l\n",
      "                        i\n",
      "                           t\n",
      "                              y*\n",
      "                     e*\n",
      "            o\n",
      "               n\n",
      "                  t*\n",
      "                     a\n",
      "                        i\n",
      "                           n*\n",
      "               a\n",
      "                  r*\n",
      "   d\n",
      "      u\n",
      "         c\n",
      "            k*\n",
      "               s*\n",
      "                  e\n",
      "                     d*\n",
      "c\n",
      "   o\n",
      "      m\n",
      "         b\n",
      "            i\n",
      "               n\n",
      "                  e*\n",
      "                        s*\n",
      "                     d*\n",
      "                     a\n",
      "                        t\n",
      "                           i\n",
      "                              o\n",
      "                                 n*\n",
      "                                    s*\n",
      "      b\n",
      "         o\n",
      "            m\n",
      "               b*\n",
      "   a*\n"
     ]
    }
   ],
   "source": [
    "# ASCII-style visualization (limited tree)\n",
    "print(\"\\nTernary Search Tree Structure:\")\n",
    "tree.visualize()"
   ]
  },
  {
   "cell_type": "markdown",
   "id": "81b22c96-865d-436d-87a5-7ae8990dba1c",
   "metadata": {},
   "source": [
    "## Best, Average, and Worst Case Scenarios\n",
    "**Best Case:** The tree is balanced; operations take O(log n) time.\n",
    "\n",
    "**Average Case:** With randomly ordered inserts, tree is semi-balanced; operations are still ~O(log n).\n",
    "\n",
    "**Worst Case:** All characters go to one side (e.g., sorted words); the tree degenerates to a list with O(n) time.\n",
    "\n",
    "We simulate this by comparing random vs. sorted insertions."
   ]
  },
  {
   "cell_type": "code",
   "execution_count": 9,
   "id": "7de2b9e6-05cf-4572-b2b9-bef321009c7a",
   "metadata": {},
   "outputs": [
    {
     "name": "stdout",
     "output_type": "stream",
     "text": [
      "Inserted 58110 sorted words (worst case) in 1.2641 seconds\n"
     ]
    }
   ],
   "source": [
    "# Simulate worst-case by inserting sorted words into a new TST\n",
    "# Load corncob words\n",
    "corncob_words = load_words(\"data/search_trees/corncob_lowercase.txt\")\n",
    "sorted_words = sorted(corncob_words)\n",
    "unbalanced_tree = TernarySearchTree()\n",
    "start = time.time()\n",
    "for word in sorted_words:\n",
    "    unbalanced_tree.insert(word)\n",
    "end = time.time()\n",
    "print(f\"Inserted {len(sorted_words)} sorted words (worst case) in {end - start:.4f} seconds\")"
   ]
  },
  {
   "cell_type": "markdown",
   "id": "bf33b1d6-e1f9-4280-b798-1565492c994c",
   "metadata": {},
   "source": [
    "## Benchmark: TST vs B-Tree (Red-Black Tree from `bintrees`)\n",
    "We compare insert and search speeds for the same dataset."
   ]
  },
  {
   "cell_type": "code",
   "execution_count": 10,
   "id": "81ea3860-3ae5-47f9-9385-df91599d33aa",
   "metadata": {},
   "outputs": [],
   "source": [
    "# Install the bintrees package (run only once if not already installed)\n",
    "#%pip install bintrees"
   ]
  },
  {
   "cell_type": "code",
   "execution_count": 12,
   "id": "9908991e-9311-4ec7-900e-5781ad3540b2",
   "metadata": {},
   "outputs": [
    {
     "name": "stdout",
     "output_type": "stream",
     "text": [
      "B-tree insert time: 0.7413 seconds\n"
     ]
    }
   ],
   "source": [
    "from bintrees import RBTree\n",
    "\n",
    "# B-Tree insert benchmark\n",
    "btree = RBTree()\n",
    "start = time.time()\n",
    "for word in corncob_words:\n",
    "    btree.insert(word, True)\n",
    "end = time.time()\n",
    "print(f\"B-tree insert time: {end - start:.4f} seconds\")"
   ]
  },
  {
   "cell_type": "code",
   "execution_count": 14,
   "id": "91cd95df-f972-434d-9172-25d23aa4904e",
   "metadata": {},
   "outputs": [
    {
     "name": "stdout",
     "output_type": "stream",
     "text": [
      "B-tree search time: 0.1183 seconds\n"
     ]
    }
   ],
   "source": [
    "# B-Tree search benchmark\n",
    "start = time.time()\n",
    "for word in corncob_words:\n",
    "    _ = btree.get(word, None)\n",
    "end = time.time()\n",
    "print(f\"B-tree search time: {end - start:.4f} seconds\")"
   ]
  },
  {
   "cell_type": "markdown",
   "id": "4cb03fe3-d458-422b-b2b0-24e5d6ab4280",
   "metadata": {},
   "source": [
    "## Time and Space Complexity\n",
    "\n",
    "- **Insert/Search (Average Case):** O(log n), assuming a reasonably balanced tree\n",
    "- **Insert/Search (Worst Case):** O(n), in the case of highly unbalanced input (e.g., sorted words)\n",
    "- **Space Complexity:** O(n * k), where n is the number of words and k is the average length of a word (each node stores a character)\n",
    "\n",
    "TSTs are efficient for prefix-based lookups and can offer near-trie functionality with more compact memory use."
   ]
  },
  {
   "cell_type": "markdown",
   "id": "ea0642cd-a04c-4235-ab9d-c28c2512923d",
   "metadata": {},
   "source": [
    "## Insertion Performance Plot"
   ]
  },
  {
   "cell_type": "code",
   "execution_count": 18,
   "id": "f3146ea4-8459-4a6e-9b0c-f1ed1cd9efa3",
   "metadata": {},
   "outputs": [
    {
     "data": {
      "image/png": "[encoded data removed]",
      "text/plain": [
       "<Figure size 640x480 with 1 Axes>"
      ]
     },
     "metadata": {},
     "output_type": "display_data"
    }
   ],
   "source": [
    "import matplotlib.pyplot as plt\n",
    "\n",
    "sizes = [100, 1000, 5000, 10000, 20000]\n",
    "times = []\n",
    "\n",
    "for size in sizes:\n",
    "    temp_tree = TernarySearchTree()\n",
    "    sample = corncob_words[:size]\n",
    "    start = time.time()\n",
    "    for word in sample:\n",
    "        temp_tree.insert(word)\n",
    "    end = time.time()\n",
    "    times.append(end - start)\n",
    "\n",
    "plt.plot(sizes, times, marker='o')\n",
    "plt.xlabel(\"Number of Words Inserted\")\n",
    "plt.ylabel(\"Insertion Time (seconds)\")\n",
    "plt.title(\"TST Insertion Performance\")\n",
    "plt.grid(True)\n",
    "plt.show()"
   ]
  },
  {
   "cell_type": "markdown",
   "id": "622e678d-62af-43a1-8ee1-80b328095655",
   "metadata": {},
   "source": [
    "## HPC Infrastructure Note\n",
    "\n",
    "This notebook was designed for local testing. However, the same Python code can be run on HPC infrastructure by submitting a job script that executes `main.py` with large input files. Timing output can be logged using Python's `time` module or external benchmarking tools."
   ]
  },
  {
   "cell_type": "markdown",
   "id": "f2861bf3-0016-4122-a9c2-35a1c9d619e2",
   "metadata": {},
   "source": [
    "## Conclusion\n",
    "\n",
    "This project demonstrates a functional implementation of a Ternary Search Tree with additional features like prefix search, word count, and visualization. Performance benchmarks validate the tree's efficiency across different scenarios and in comparison with a B-tree. The modular structure supports easy integration with both Jupyter notebooks and HPC environments."
   ]
  },
  {
   "cell_type": "code",
   "execution_count": null,
   "id": "d0854a4f-372f-4093-b3bf-0907a3da5598",
   "metadata": {},
   "outputs": [],
   "source": []
  }
 ],
 "metadata": {
  "kernelspec": {
   "display_name": "Python 3 (ipykernel)",
   "language": "python",
   "name": "python3"
  },
  "language_info": {
   "codemirror_mode": {
    "name": "ipython",
    "version": 3
   },
   "file_extension": ".py",
   "mimetype": "text/x-python",
   "name": "python",
   "nbconvert_exporter": "python",
   "pygments_lexer": "ipython3",
   "version": "3.10.12"
  }
 },
 "nbformat": 4,
 "nbformat_minor": 5
}
