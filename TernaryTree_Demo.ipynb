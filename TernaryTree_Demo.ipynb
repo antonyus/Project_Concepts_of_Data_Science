{
 "cells": [
  {
   "cell_type": "markdown",
   "id": "659cb0db",
   "metadata": {},
   "source": [
    "# Ternary Search Tree Demo\n",
    "This notebook demonstrates how to use the `TernarySearchTree` class."
   ]
  },
  {
   "cell_type": "code",
   "execution_count": null,
   "id": "49fca7b5",
   "metadata": {},
   "outputs": [],
   "source": [
    "from ternary_tree import TernarySearchTree\n",
    "from file_loader import load_words\n"
   ]
  },
  {
   "cell_type": "markdown",
   "id": "a1d60068",
   "metadata": {},
   "source": [
    "## Initialize the Tree and Load Words"
   ]
  },
  {
   "cell_type": "code",
   "execution_count": null,
   "id": "86a7fde4",
   "metadata": {},
   "outputs": [],
   "source": [
    "tree = TernarySearchTree()\n",
    "\n",
    "# Load words\n",
    "insert_words = load_words(\"data/search_trees/insert_words.txt\")\n",
    "not_inserted = load_words(\"data/search_trees/not_insert_words.txt\")\n",
    "\n",
    "# Insert words into the tree\n",
    "for word in insert_words:\n",
    "    tree.insert(word)\n"
   ]
  },
  {
   "cell_type": "markdown",
   "id": "c7569ba0",
   "metadata": {},
   "source": [
    "## Search for Inserted and Not Inserted Words"
   ]
  },
  {
   "cell_type": "code",
   "execution_count": null,
   "id": "8134566b",
   "metadata": {},
   "outputs": [],
   "source": [
    "print(\"✅ Inserted words:\")\n",
    "for word in insert_words[:10]:\n",
    "    print(f\"{word}: {'Found' if tree.search(word) else 'Not Found'}\")\n",
    "\n",
    "print(\"\\n❌ Not Inserted words:\")\n",
    "for word in not_inserted[:10]:\n",
    "    print(f\"{word}: {'Found' if tree.search(word) else 'Not Found'}\")\n"
   ]
  },
  {
   "cell_type": "markdown",
   "id": "de526fe4",
   "metadata": {},
   "source": [
    "## Benchmark: Search Time for Inserted Words"
   ]
  },
  {
   "cell_type": "code",
   "execution_count": null,
   "id": "cbaa6488",
   "metadata": {},
   "outputs": [],
   "source": [
    "import time\n",
    "\n",
    "start = time.time()\n",
    "for word in insert_words:\n",
    "    tree.search(word)\n",
    "end = time.time()\n",
    "\n",
    "print(f\"Search time for {len(insert_words)} words: {end - start:.4f} seconds\")"
   ]
  },
  {
   "cell_type": "code",
   "execution_count": null,
   "id": "4618f016",
   "metadata": {},
   "outputs": [],
   "source": [
    "# Get number of unique inserted words\n",
    "print(f\"Total words in tree: {tree.size()}\")"
   ]
  },
  {
   "cell_type": "code",
   "execution_count": null,
   "id": "863e7f3a",
   "metadata": {},
   "outputs": [],
   "source": [
    "# Show all stored words (first 20 for brevity)\n",
    "all_words = tree.get_all_words()\n",
    "print(\"\\nFirst 20 stored words:\")\n",
    "print(all_words[:20])"
   ]
  },
  {
   "cell_type": "code",
   "execution_count": null,
   "id": "ee0be526",
   "metadata": {},
   "outputs": [],
   "source": [
    "# Prefix search example\n",
    "prefix = \"com\"\n",
    "matches = tree.starts_with_prefix(prefix)\n",
    "print(f\"\\nWords starting with '{prefix}':\")\n",
    "print(matches[:10])"
   ]
  },
  {
   "cell_type": "code",
   "execution_count": null,
   "id": "97f1fdd0",
   "metadata": {},
   "outputs": [],
   "source": [
    "# ASCII-style visualization (limited tree)\n",
    "print(\"\\nTernary Search Tree Structure:\")\n",
    "tree.visualize()"
   ]
  },
  {
   "cell_type": "code",
   "execution_count": null,
   "id": "0ea9d41d",
   "metadata": {},
   "outputs": [],
   "source": []
  }
 ],
 "metadata": {
  "language_info": {
   "name": "python"
  }
 },
 "nbformat": 4,
 "nbformat_minor": 5
}
